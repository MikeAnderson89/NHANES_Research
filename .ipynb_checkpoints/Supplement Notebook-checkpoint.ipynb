{
 "cells": [
  {
   "cell_type": "markdown",
   "metadata": {},
   "source": [
    "# Supplements"
   ]
  },
  {
   "cell_type": "code",
   "execution_count": 1,
   "metadata": {},
   "outputs": [],
   "source": [
    "import pandas as pd\n",
    "import numpy as np\n",
    "import seaborn as sns\n",
    "import matplotlib.pyplot as plt\n",
    "from scipy.stats import ttest_ind"
   ]
  },
  {
   "cell_type": "code",
   "execution_count": 2,
   "metadata": {},
   "outputs": [],
   "source": [
    "#Load the CSVs\n",
    "supplement1_csv = pd.read_csv('CSVs/supplement1.csv')\n",
    "supplement2_csv = pd.read_csv('CSVs/supplement2.csv')\n",
    "demographics_csv = pd.read_csv('CSVs/demographic.csv')\n",
    "questionnaire_csv = pd.read_csv('CSVs/questionnaire.csv')"
   ]
  },
  {
   "cell_type": "code",
   "execution_count": 3,
   "metadata": {},
   "outputs": [
    {
     "data": {
      "text/plain": [
       "Index(['SEQN', 'DSDSUPID', 'DSDSUPP', 'DSDANTA', 'DSD070', 'DSDMTCH', 'DSD090',\n",
       "       'DSD103', 'DSD122Q', 'DSD122U', 'DSDACTSS', 'DSDDAY1', 'DSDDAY2',\n",
       "       'DSQ124', 'DSQ128A', 'DSQ128B', 'DSQ128C', 'DSQ128D', 'DSQ128E',\n",
       "       'DSQ128F', 'DSQ128G', 'DSQ128H', 'DSQ128I', 'DSQ128J', 'DSQ128K',\n",
       "       'DSQ128L', 'DSQ128M', 'DSQ128N', 'DSQ128O', 'DSQ128P', 'DSQ128Q',\n",
       "       'DSQ128R', 'DSD128T', 'DSD128V', 'DSD128W', 'DSD128X', 'DSD128Z',\n",
       "       'DSD128AA', 'DSD128BB', 'DSD128DD', 'DSD128EE', 'DSD128FF', 'DSD128GG',\n",
       "       'DSD128HH', 'DSD128II', 'DSD128JJ', 'DSD128KK', 'DSD128LL', 'DSD128MM',\n",
       "       'DSQ128NN', 'DSQ128S', 'RXQ215A', 'DSQIKCAL', 'DSQIPROT', 'DSQICARB',\n",
       "       'DSQISUGR', 'DSQIFIBE', 'DSQITFAT', 'DSQISFAT', 'DSQIMFAT', 'DSQIPFAT',\n",
       "       'DSQICHOL', 'DSQILYCO', 'DSQILZ', 'DSQIVB1', 'DSQIVB2', 'DSQINIAC',\n",
       "       'DSQIVB6', 'DSQIFA', 'DSQIFDFE', 'DSQICHL', 'DSQIVB12', 'DSQIVC',\n",
       "       'DSQIVK', 'DSQIVD', 'DSQICALC', 'DSQIPHOS', 'DSQIMAGN', 'DSQIIRON',\n",
       "       'DSQIZINC', 'DSQICOPP', 'DSQISODI', 'DSQIPOTA', 'DSQISELE', 'DSQICAFF',\n",
       "       'DSQIIODI'],\n",
       "      dtype='object')"
      ]
     },
     "execution_count": 3,
     "metadata": {},
     "output_type": "execute_result"
    }
   ],
   "source": [
    "#Turn the CSVs into dataframes\n",
    "questionnaire = pd.DataFrame(questionnaire_csv)\n",
    "supplement1 = pd.DataFrame(supplement1_csv)\n",
    "supplement2 = pd.DataFrame(supplement2_csv)\n",
    "demographics = pd.DataFrame(demographics_csv)\n",
    "supplement1.columns"
   ]
  },
  {
   "cell_type": "code",
   "execution_count": 4,
   "metadata": {},
   "outputs": [
    {
     "data": {
      "text/plain": [
       "Index(['SEQN', 'DSDSUPID', 'DSDSUPP', 'DSDANTA', 'DSD070', 'DSDMTCH', 'DSD090',\n",
       "       'DSD103', 'DSD122Q', 'DSD122U',\n",
       "       ...\n",
       "       'DSQTPHOS', 'DSQTMAGN', 'DSQTIRON', 'DSQTZINC', 'DSQTCOPP', 'DSQTSODI',\n",
       "       'DSQTPOTA', 'DSQTSELE', 'DSQTCAFF', 'DSQTIODI'],\n",
       "      dtype='object', length=124)"
      ]
     },
     "execution_count": 4,
     "metadata": {},
     "output_type": "execute_result"
    }
   ],
   "source": [
    "#Merge the supplement dataframes\n",
    "supplements = pd.merge(supplement1, supplement2, on='SEQN', how='inner')\n",
    "supplements['SEQN'] = supplements['SEQN'].astype(int)\n",
    "\n",
    "supplement_question = pd.merge(supplements, questionnaire, on='SEQN', how='inner')\n",
    "dataframe = pd.merge(supplement_question, demographics, on='SEQN', how='inner')\n",
    "supplements.columns"
   ]
  },
  {
   "cell_type": "code",
   "execution_count": 5,
   "metadata": {},
   "outputs": [
    {
     "data": {
      "text/html": [
       "<div>\n",
       "<style scoped>\n",
       "    .dataframe tbody tr th:only-of-type {\n",
       "        vertical-align: middle;\n",
       "    }\n",
       "\n",
       "    .dataframe tbody tr th {\n",
       "        vertical-align: top;\n",
       "    }\n",
       "\n",
       "    .dataframe thead th {\n",
       "        text-align: right;\n",
       "    }\n",
       "</style>\n",
       "<table border=\"1\" class=\"dataframe\">\n",
       "  <thead>\n",
       "    <tr style=\"text-align: right;\">\n",
       "      <th></th>\n",
       "      <th>Patient ID</th>\n",
       "      <th>Gender</th>\n",
       "      <th>Age</th>\n",
       "      <th>Race</th>\n",
       "      <th>Country of Birth</th>\n",
       "      <th>Highest Education Level</th>\n",
       "      <th>Supplement Name</th>\n",
       "      <th>Time Taking Supplement</th>\n",
       "      <th>Took Product on Own or Doctor Advised</th>\n",
       "      <th>Total # of Supplements Taken</th>\n",
       "      <th>Any Supplements Taken</th>\n",
       "      <th>Type Place Gone for Healthcare</th>\n",
       "      <th>Time Received Healthcare in Last Year</th>\n",
       "      <th>How Long Since Last Healthcare Visit</th>\n",
       "    </tr>\n",
       "  </thead>\n",
       "  <tbody>\n",
       "    <tr>\n",
       "      <th>0</th>\n",
       "      <td>73558</td>\n",
       "      <td>1</td>\n",
       "      <td>54</td>\n",
       "      <td>3</td>\n",
       "      <td>1</td>\n",
       "      <td>3.0</td>\n",
       "      <td>VITAMIN C (ASCORBIC ACID) 1000 MG</td>\n",
       "      <td>21</td>\n",
       "      <td>1</td>\n",
       "      <td>1.0</td>\n",
       "      <td>1.0</td>\n",
       "      <td>2.0</td>\n",
       "      <td>5</td>\n",
       "      <td>NaN</td>\n",
       "    </tr>\n",
       "    <tr>\n",
       "      <th>1</th>\n",
       "      <td>73559</td>\n",
       "      <td>1</td>\n",
       "      <td>72</td>\n",
       "      <td>3</td>\n",
       "      <td>1</td>\n",
       "      <td>4.0</td>\n",
       "      <td>ONE A DAY MEN'S HEALTH FORMULA MULTIVITAMIN / ...</td>\n",
       "      <td>1095</td>\n",
       "      <td>1</td>\n",
       "      <td>2.0</td>\n",
       "      <td>1.0</td>\n",
       "      <td>2.0</td>\n",
       "      <td>2</td>\n",
       "      <td>NaN</td>\n",
       "    </tr>\n",
       "    <tr>\n",
       "      <th>2</th>\n",
       "      <td>73559</td>\n",
       "      <td>1</td>\n",
       "      <td>72</td>\n",
       "      <td>3</td>\n",
       "      <td>1</td>\n",
       "      <td>4.0</td>\n",
       "      <td>CALCIUM 400 MG</td>\n",
       "      <td>1825</td>\n",
       "      <td>2</td>\n",
       "      <td>2.0</td>\n",
       "      <td>1.0</td>\n",
       "      <td>2.0</td>\n",
       "      <td>2</td>\n",
       "      <td>NaN</td>\n",
       "    </tr>\n",
       "    <tr>\n",
       "      <th>3</th>\n",
       "      <td>73561</td>\n",
       "      <td>2</td>\n",
       "      <td>73</td>\n",
       "      <td>3</td>\n",
       "      <td>1</td>\n",
       "      <td>5.0</td>\n",
       "      <td>CALTRATE CALCIUM &amp; VITAMIN D3 600+D3 HIGHEST L...</td>\n",
       "      <td>10950</td>\n",
       "      <td>1</td>\n",
       "      <td>1.0</td>\n",
       "      <td>1.0</td>\n",
       "      <td>2.0</td>\n",
       "      <td>4</td>\n",
       "      <td>NaN</td>\n",
       "    </tr>\n",
       "    <tr>\n",
       "      <th>4</th>\n",
       "      <td>73564</td>\n",
       "      <td>2</td>\n",
       "      <td>61</td>\n",
       "      <td>3</td>\n",
       "      <td>1</td>\n",
       "      <td>5.0</td>\n",
       "      <td>CENTRUM SILVER MULTIVITAMIN / MULTIMINERAL ADU...</td>\n",
       "      <td>1825</td>\n",
       "      <td>1</td>\n",
       "      <td>7.0</td>\n",
       "      <td>1.0</td>\n",
       "      <td>2.0</td>\n",
       "      <td>2</td>\n",
       "      <td>NaN</td>\n",
       "    </tr>\n",
       "  </tbody>\n",
       "</table>\n",
       "</div>"
      ],
      "text/plain": [
       "   Patient ID  Gender  Age  Race  Country of Birth  Highest Education Level  \\\n",
       "0       73558       1   54     3                 1                      3.0   \n",
       "1       73559       1   72     3                 1                      4.0   \n",
       "2       73559       1   72     3                 1                      4.0   \n",
       "3       73561       2   73     3                 1                      5.0   \n",
       "4       73564       2   61     3                 1                      5.0   \n",
       "\n",
       "                                     Supplement Name  Time Taking Supplement  \\\n",
       "0                  VITAMIN C (ASCORBIC ACID) 1000 MG                      21   \n",
       "1  ONE A DAY MEN'S HEALTH FORMULA MULTIVITAMIN / ...                    1095   \n",
       "2                                     CALCIUM 400 MG                    1825   \n",
       "3  CALTRATE CALCIUM & VITAMIN D3 600+D3 HIGHEST L...                   10950   \n",
       "4  CENTRUM SILVER MULTIVITAMIN / MULTIMINERAL ADU...                    1825   \n",
       "\n",
       "   Took Product on Own or Doctor Advised  Total # of Supplements Taken  \\\n",
       "0                                      1                           1.0   \n",
       "1                                      1                           2.0   \n",
       "2                                      2                           2.0   \n",
       "3                                      1                           1.0   \n",
       "4                                      1                           7.0   \n",
       "\n",
       "   Any Supplements Taken  Type Place Gone for Healthcare  \\\n",
       "0                    1.0                             2.0   \n",
       "1                    1.0                             2.0   \n",
       "2                    1.0                             2.0   \n",
       "3                    1.0                             2.0   \n",
       "4                    1.0                             2.0   \n",
       "\n",
       "   Time Received Healthcare in Last Year  How Long Since Last Healthcare Visit  \n",
       "0                                      5                                   NaN  \n",
       "1                                      2                                   NaN  \n",
       "2                                      2                                   NaN  \n",
       "3                                      4                                   NaN  \n",
       "4                                      2                                   NaN  "
      ]
     },
     "execution_count": 5,
     "metadata": {},
     "output_type": "execute_result"
    }
   ],
   "source": [
    "#Filter the columns to what we need and rename\n",
    "dataframe = dataframe[['SEQN',\n",
    "                      'RIAGENDR', #Gender\n",
    "                      'RIDAGEYR', #Age\n",
    "                      'RIDRETH3', #Race\n",
    "                       'DMDBORN4', #Country of Birth\n",
    "                       'DMDEDUC2', #Education Level of Adults\n",
    "                       'DSDSUPP', #Supplement Name\n",
    "                       'DSD090', #How Long Taking Supplement\n",
    "                       'DSQ124', #Took product on own or doctor advised\n",
    "                       'DSDCOUNT', #Total # of dietary supplements taken\n",
    "                       'DSD010', #Any dietary supplements taken *********\n",
    "                       'HUQ041', #Type place most often go for healthcare\n",
    "                       'HUQ051', #Times received healthcare over the past year\n",
    "                       'HUQ061', #How long since last healthcare visit\n",
    "                       ]]\n",
    "\n",
    "dataframe = dataframe.rename(columns={\n",
    "    'SEQN': 'Patient ID',\n",
    "    'RIAGENDR': 'Gender',\n",
    "    'RIDAGEYR': 'Age',\n",
    "    'RIDRETH3': 'Race',\n",
    "    'DMDBORN4': 'Country of Birth',\n",
    "    'DMDEDUC2': 'Highest Education Level',\n",
    "    'DSDSUPP': 'Supplement Name',\n",
    "    'DSD090': 'Time Taking Supplement',\n",
    "    'DSQ124': 'Took Product on Own or Doctor Advised',\n",
    "    'DSDCOUNT': 'Total # of Supplements Taken',\n",
    "    'DSD010': 'Any Supplements Taken',\n",
    "    'HUQ041': 'Type Place Gone for Healthcare',\n",
    "    'HUQ051': 'Time Received Healthcare in Last Year',\n",
    "    'HUQ061': 'How Long Since Last Healthcare Visit'\n",
    "})\n",
    "\n",
    "dataframe.head()"
   ]
  },
  {
   "cell_type": "markdown",
   "metadata": {},
   "source": [
    "### Cleaning Up the Dataframe"
   ]
  },
  {
   "cell_type": "code",
   "execution_count": 6,
   "metadata": {},
   "outputs": [],
   "source": [
    "#Use only adults\n",
    "dataframe = dataframe[dataframe.Age >= 18]"
   ]
  },
  {
   "cell_type": "code",
   "execution_count": 20,
   "metadata": {},
   "outputs": [],
   "source": [
    "#Remove people who didn't know, didn't report, or are missing when they went to the doctor\n",
    "dataframe = dataframe[dataframe['Time Received Healthcare in Last Year'] != 99]\n",
    "dataframe = dataframe[dataframe['Time Received Healthcare in Last Year'] != 77]\n",
    "dataframe['Time Received Healthcare in Last Year'].dropna()\n",
    "\n",
    "#Recode Dietary Supplements Taken to be usable in correlations\n",
    "dataframe = dataframe[dataframe['Any Supplements Taken'] != 7]\n",
    "dataframe = dataframe[dataframe['Any Supplements Taken'] != 9]\n",
    "dataframe['Any Supplements Taken'].replace(2.0, 0, inplace=True)\n",
    "dataframe.loc[dataframe['Any Supplements Taken'] == 2]\n",
    "\n",
    "#Use only people who knew where they went for healthcare\n",
    "dataframe['Type Place Gone for Healthcare'].dropna()\n",
    "dataframe = dataframe[dataframe['Type Place Gone for Healthcare'] != 99]\n",
    "dataframe = dataframe[dataframe['Type Place Gone for Healthcare'] != 77]"
   ]
  },
  {
   "cell_type": "code",
   "execution_count": 21,
   "metadata": {},
   "outputs": [],
   "source": [
    "#Get only the comparable rows (no descriptions)\n",
    "numbers_df = dataframe[[\n",
    "    'Patient ID',\n",
    "    'Gender',\n",
    "    'Age',\n",
    "    'Race',\n",
    "    'Highest Education Level',\n",
    "    'Time Taking Supplement',\n",
    "    'Took Product on Own or Doctor Advised',\n",
    "    'Total # of Supplements Taken',\n",
    "    'Any Supplements Taken',\n",
    "    'Time Received Healthcare in Last Year'\n",
    "]]"
   ]
  },
  {
   "cell_type": "markdown",
   "metadata": {},
   "source": [
    "## Correlation Rates for Supplements"
   ]
  },
  {
   "cell_type": "code",
   "execution_count": 22,
   "metadata": {},
   "outputs": [
    {
     "data": {
      "image/png": "[encoded data removed]",
      "text/plain": [
       "<Figure size 1152x1008 with 2 Axes>"
      ]
     },
     "metadata": {
      "needs_background": "light"
     },
     "output_type": "display_data"
    }
   ],
   "source": [
    "#set up the correlation heatmap\n",
    "corr = numbers_df.corr()\n",
    "\n",
    "plt.figure(figsize=(16,14))\n",
    "sns.heatmap(corr)\n",
    "plt.show()"
   ]
  },
  {
   "cell_type": "code",
   "execution_count": 26,
   "metadata": {},
   "outputs": [
    {
     "data": {
      "text/plain": [
       "Ttest_indResult(statistic=17.821736336307445, pvalue=3.079448553175593e-70)"
      ]
     },
     "execution_count": 26,
     "metadata": {},
     "output_type": "execute_result"
    }
   ],
   "source": [
    "corr['Total # of Supplements Taken'].sort_values(ascending=False)\n",
    "\n",
    "ttest_ind(numbers_df['Total # of Supplements Taken'], numbers_df['Time Received Healthcare in Last Year'],\n",
    "                                                                 equal_var=False)"
   ]
  },
  {
   "cell_type": "code",
   "execution_count": 27,
   "metadata": {},
   "outputs": [
    {
     "data": {
      "text/plain": [
       "0.11019133728953674"
      ]
     },
     "execution_count": 27,
     "metadata": {},
     "output_type": "execute_result"
    }
   ],
   "source": [
    "numbers_df['Total # of Supplements Taken'].corr(numbers_df['Time Received Healthcare in Last Year'])"
   ]
  },
  {
   "cell_type": "code",
   "execution_count": null,
   "metadata": {},
   "outputs": [],
   "source": []
  },
  {
   "cell_type": "code",
   "execution_count": null,
   "metadata": {},
   "outputs": [],
   "source": []
  }
 ],
 "metadata": {
  "kernelspec": {
   "display_name": "Python 3",
   "language": "python",
   "name": "python3"
  },
  "language_info": {
   "codemirror_mode": {
    "name": "ipython",
    "version": 3
   },
   "file_extension": ".py",
   "mimetype": "text/x-python",
   "name": "python",
   "nbconvert_exporter": "python",
   "pygments_lexer": "ipython3",
   "version": "3.7.3"
  }
 },
 "nbformat": 4,
 "nbformat_minor": 2
}
